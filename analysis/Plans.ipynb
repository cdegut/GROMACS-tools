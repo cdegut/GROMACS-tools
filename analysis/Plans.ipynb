{
 "cells": [
  {
   "cell_type": "code",
   "execution_count": null,
   "metadata": {},
   "outputs": [],
   "source": [
    "import MDAnalysis as mda\n",
    "atomistic_system = mda.Universe\n",
    "from modules.distances import *\n",
    "from modules.dssp import dssp\n",
    "from modules.input import res_list, show_fasta\n",
    "from typing import Tuple\n",
    "%reload_ext autoreload\n",
    "%autoreload 2\n",
    "import input\n",
    "import MDAnalysis.analysis.align as align"
   ]
  },
  {
   "cell_type": "code",
   "execution_count": null,
   "metadata": {},
   "outputs": [],
   "source": [
    "atomistic_system, reference_structure, energy_like_terms, is_aligned = input.read_files()\n",
    "is_aligned = input.align_traj(is_aligned)"
   ]
  },
  {
   "cell_type": "code",
   "execution_count": null,
   "metadata": {},
   "outputs": [],
   "source": []
  }
 ],
 "metadata": {
  "language_info": {
   "name": "python"
  }
 },
 "nbformat": 4,
 "nbformat_minor": 2
}
