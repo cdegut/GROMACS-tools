{
 "cells": [
  {
   "cell_type": "code",
   "execution_count": 1,
   "metadata": {},
   "outputs": [
    {
     "name": "stdout",
     "output_type": "stream",
     "text": [
      "Aligned file found, reading this instead\n"
     ]
    }
   ],
   "source": [
    "import MDAnalysis as mda\n",
    "atomistic_system = mda.Universe\n",
    "#from modules import *\n",
    "from modules.Rg import Rg\n",
    "%run input.ipynb"
   ]
  },
  {
   "cell_type": "code",
   "execution_count": 4,
   "metadata": {},
   "outputs": [
    {
     "ename": "AttributeError",
     "evalue": "module 'matplotlib' has no attribute 'subplots'",
     "output_type": "error",
     "traceback": [
      "\u001b[1;31m---------------------------------------------------------------------------\u001b[0m",
      "\u001b[1;31mAttributeError\u001b[0m                            Traceback (most recent call last)",
      "Cell \u001b[1;32mIn[4], line 1\u001b[0m\n\u001b[1;32m----> 1\u001b[0m Rgyr \u001b[38;5;241m=\u001b[39m \u001b[43mRg\u001b[49m\u001b[43m(\u001b[49m\u001b[43matomistic_system\u001b[49m\u001b[43m)\u001b[49m\n",
      "File \u001b[1;32ms:\\Work\\gromacs\\GROMACS-tools\\analysis\\modules\\Rg.py:10\u001b[0m, in \u001b[0;36mRg\u001b[1;34m(atomistic_system)\u001b[0m\n\u001b[0;32m      9\u001b[0m \u001b[38;5;28;01mdef\u001b[39;00m \u001b[38;5;21mRg\u001b[39m(atomistic_system):\n\u001b[1;32m---> 10\u001b[0m     fig, ax \u001b[38;5;241m=\u001b[39m \u001b[43mplt\u001b[49m\u001b[38;5;241;43m.\u001b[39;49m\u001b[43msubplots\u001b[49m()\n\u001b[0;32m     11\u001b[0m     fig\u001b[38;5;241m.\u001b[39mset(figwidth\u001b[38;5;241m=\u001b[39m\u001b[38;5;241m12\u001b[39m)\n\u001b[0;32m     12\u001b[0m     Rgyr \u001b[38;5;241m=\u001b[39m []\n",
      "File \u001b[1;32mc:\\Users\\Clement\\AppData\\Local\\Programs\\Python\\Python312\\Lib\\site-packages\\matplotlib\\_api\\__init__.py:217\u001b[0m, in \u001b[0;36mcaching_module_getattr.<locals>.__getattr__\u001b[1;34m(name)\u001b[0m\n\u001b[0;32m    215\u001b[0m \u001b[38;5;28;01mif\u001b[39;00m name \u001b[38;5;129;01min\u001b[39;00m props:\n\u001b[0;32m    216\u001b[0m     \u001b[38;5;28;01mreturn\u001b[39;00m props[name]\u001b[38;5;241m.\u001b[39m\u001b[38;5;21m__get__\u001b[39m(instance)\n\u001b[1;32m--> 217\u001b[0m \u001b[38;5;28;01mraise\u001b[39;00m \u001b[38;5;167;01mAttributeError\u001b[39;00m(\n\u001b[0;32m    218\u001b[0m     \u001b[38;5;124mf\u001b[39m\u001b[38;5;124m\"\u001b[39m\u001b[38;5;124mmodule \u001b[39m\u001b[38;5;132;01m{\u001b[39;00m\u001b[38;5;28mcls\u001b[39m\u001b[38;5;241m.\u001b[39m\u001b[38;5;18m__module__\u001b[39m\u001b[38;5;132;01m!r}\u001b[39;00m\u001b[38;5;124m has no attribute \u001b[39m\u001b[38;5;132;01m{\u001b[39;00mname\u001b[38;5;132;01m!r}\u001b[39;00m\u001b[38;5;124m\"\u001b[39m)\n",
      "\u001b[1;31mAttributeError\u001b[0m: module 'matplotlib' has no attribute 'subplots'"
     ]
    }
   ],
   "source": [
    "Rgyr = Rg(atomistic_system)"
   ]
  },
  {
   "cell_type": "code",
   "execution_count": null,
   "metadata": {},
   "outputs": [],
   "source": [
    "distances_3Darray = calculate_3D_distance(atomistic_system)"
   ]
  },
  {
   "cell_type": "code",
   "execution_count": null,
   "metadata": {},
   "outputs": [],
   "source": [
    "dist_max = 15\n",
    "contact_start = 240\n",
    "contact_finish = 241\n",
    "\n",
    "atomistic_system.trajectory[contact_start*100]\n",
    "protein = atomistic_system.select_atoms(\"protein\")\n",
    "dsspline = dssp(protein)\n",
    "\n",
    "plot_distances_HD(Rgyr, distances_3Darray, contact_start, contact_finish, dist_max, dsspline, do_rolling_Rgs=True, atomistic_system=atomistic_system)\n",
    "    \n",
    "## Extras\n",
    "#plot_distances_slices(distances_3Darray, contact_start, contact_finish, dist_max)\n",
    "#mean = np.mean(distances_3Darray[contact_start *100 : contact_finish *100], axis=0)\n",
    "#np.savetxt(f\"{sim_path}distances_avg_{contact_start}ns-{contact_finish}ns.csv\", mean, delimiter=\",\" )\n",
    "cutoff = 12\n",
    "#plot_every_diagonal(distances_3Darray, contact_start,contact_finish, cutoff) ## it's pretty terrible don't look at it"
   ]
  }
 ],
 "metadata": {
  "kernelspec": {
   "display_name": "Python 3",
   "language": "python",
   "name": "python3"
  },
  "language_info": {
   "codemirror_mode": {
    "name": "ipython",
    "version": 3
   },
   "file_extension": ".py",
   "mimetype": "text/x-python",
   "name": "python",
   "nbconvert_exporter": "python",
   "pygments_lexer": "ipython3",
   "version": "3.12.0"
  }
 },
 "nbformat": 4,
 "nbformat_minor": 2
}
