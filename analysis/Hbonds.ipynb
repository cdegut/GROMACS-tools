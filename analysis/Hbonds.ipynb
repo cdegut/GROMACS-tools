{
 "cells": [
  {
   "cell_type": "code",
   "execution_count": null,
   "metadata": {},
   "outputs": [],
   "source": [
    "hbonds = False\n",
    "if H_bonds and ligand_name:\n",
    "    from MDAnalysis.analysis.hydrogenbonds.hbond_analysis import HydrogenBondAnalysis as HBA\n",
    "    hbonds = HBA(universe=atomistic_system, between=[\"protein\", f\"resname {ligand_name}\"])\n",
    "\n",
    "# Guess H and accepetors\n",
    "    protein_H = hbonds.guess_hydrogens(\"protein\")\n",
    "    protein_acc = hbonds.guess_acceptors(\"protein\")\n",
    "    ligand_H = hbonds.guess_hydrogens(f\"resname  {ligand_name}\")\n",
    "    ligand_acc =  hbonds.guess_acceptors(f\"resname {ligand_name}\")\n",
    "\n",
    "    hbonds.hydrogens_sel = f\"({protein_H}) or ({ligand_H})\"\n",
    "    hbonds.acceptors_sel = f\"({protein_acc}) or ({ligand_acc})\"\n",
    "\n",
    "    hbonds.run(verbose=True, start=start_frame, stop=stop_frame)\n",
    "if hbonds:\n",
    "    print(hbonds.results.hbonds.shape)\n",
    "\n",
    "    plt.plot(hbonds.times, hbonds.count_by_time(), lw=2)\n",
    "\n",
    "    plt.title(\"Number of hydrogon bonds over time\", weight=\"bold\")\n",
    "    plt.xlabel(\"Time (ps)\")\n",
    "    plt.ylabel(r\"$N_{HB}$\")\n",
    "\n",
    "    plt.show()\n",
    "\n",
    "if hbonds:\n",
    "    for donor, acceptor, count in hbonds.count_by_type():\n",
    "\n",
    "        donor_resname, donor_type = donor.split(\":\")\n",
    "        n_donors = atomistic_system.select_atoms(f\"resname {donor_resname} and type {donor_type}\").n_atoms\n",
    "\n",
    "        # average number of hbonds per donor molecule per frame\n",
    "        mean_count = 2 * int(count) / (hbonds.n_frames * n_donors)  # multiply by two as each hydrogen bond involves two water molecules\n",
    "        print(f\"{donor} to {acceptor}: {mean_count:.2f}\")"
   ]
  }
 ],
 "metadata": {
  "language_info": {
   "name": "python"
  }
 },
 "nbformat": 4,
 "nbformat_minor": 2
}
