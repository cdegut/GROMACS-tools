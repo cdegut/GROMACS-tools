{
 "cells": [
  {
   "cell_type": "code",
   "execution_count": 1,
   "metadata": {},
   "outputs": [],
   "source": [
    "import MDAnalysis as mda\n",
    "atomistic_system = mda.Universe\n",
    "from modules.dssp import *\n",
    "%reload_ext autoreload\n",
    "%autoreload 2"
   ]
  },
  {
   "cell_type": "code",
   "execution_count": 4,
   "metadata": {},
   "outputs": [
    {
     "name": "stdout",
     "output_type": "stream",
     "text": [
      "Aligned file found, reading this instead\n"
     ]
    }
   ],
   "source": [
    "%run input.ipynb"
   ]
  },
  {
   "cell_type": "code",
   "execution_count": 9,
   "metadata": {},
   "outputs": [
    {
     "name": "stdout",
     "output_type": "stream",
     "text": [
      "SSSAPARSSSASKKAVTPSRSALPSNWKQELESLRSSSPAPASSAPAPARSSSASWRDAAPASSAPARSSSSKKAVTPSRSALPSNWKQELESLRSSSPAPASSAPAPARSSSASWRDAAPAENLYFQS\n",
      "---------------------------HHHHHHHH-----------------------------------------------------HHHHHHH------------------------E--E------\n"
     ]
    }
   ],
   "source": [
    "fasta = \"\"\n",
    "for i, residue in enumerate(atomistic_system.residues.resnames):\n",
    "    fasta = fasta + mda.lib.util.convert_aa_code(atomistic_system.residues.resnames[i])\n",
    "atomistic_system.trajectory[0]\n",
    "protein = atomistic_system.select_atoms(\"protein\")\n",
    "dsspline_start = dssp(protein)\n",
    "print(f\"{fasta}\\n{dsspline_start}\")"
   ]
  }
 ],
 "metadata": {
  "kernelspec": {
   "display_name": "Python 3",
   "language": "python",
   "name": "python3"
  },
  "language_info": {
   "codemirror_mode": {
    "name": "ipython",
    "version": 3
   },
   "file_extension": ".py",
   "mimetype": "text/x-python",
   "name": "python",
   "nbconvert_exporter": "python",
   "pygments_lexer": "ipython3",
   "version": "3.10.2"
  }
 },
 "nbformat": 4,
 "nbformat_minor": 2
}
