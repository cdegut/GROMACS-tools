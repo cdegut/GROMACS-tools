{
 "cells": [
  {
   "cell_type": "code",
   "execution_count": 154,
   "metadata": {},
   "outputs": [],
   "source": [
    "import MDAnalysis as mda\n",
    "from modules.distances import *\n",
    "from modules.dssp import dssp, plot_dssp_simulation\n",
    "from modules.input import res_list\n",
    "\n",
    "%reload_ext autoreload\n",
    "%autoreload 2\n",
    "import input"
   ]
  },
  {
   "cell_type": "code",
   "execution_count": 155,
   "metadata": {},
   "outputs": [
    {
     "name": "stdout",
     "output_type": "stream",
     "text": [
      "Aligned file found, reading this instead\n"
     ]
    }
   ],
   "source": [
    "atomistic_system, reference_structure, energy_like_terms, is_aligned = input.read_files()"
   ]
  },
  {
   "cell_type": "code",
   "execution_count": 156,
   "metadata": {},
   "outputs": [],
   "source": [
    "step = 50 ## take a frame every step\n",
    "plot_dssp_simulation(atomistic_system, step)\n",
    "\n",
    "fasta = input.get_fasta(atomistic_system)\n",
    "number_line = input.get_number_line(fasta)\n",
    "print(f\"{number_line}\\n{fasta}\")"
   ]
  }
 ],
 "metadata": {
  "kernelspec": {
   "display_name": "Python 3",
   "language": "python",
   "name": "python3"
  },
  "language_info": {
   "codemirror_mode": {
    "name": "ipython",
    "version": 3
   },
   "file_extension": ".py",
   "mimetype": "text/x-python",
   "name": "python",
   "nbconvert_exporter": "python",
   "pygments_lexer": "ipython3",
   "version": "3.12.0"
  }
 },
 "nbformat": 4,
 "nbformat_minor": 2
}
