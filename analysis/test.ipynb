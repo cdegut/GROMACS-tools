{
 "cells": [
  {
   "cell_type": "code",
   "execution_count": 1,
   "metadata": {},
   "outputs": [
    {
     "name": "stderr",
     "output_type": "stream",
     "text": [
      "s:\\Work\\gromacs\\GROMACS-tools\\analysis\\modules.py:190: SyntaxWarning: invalid escape sequence '\\A'\n",
      "  ax.set(ylabel='Size ($\\AA$)', xlim=(0, len(box_Z_data['Time'])/100))\n",
      "s:\\Work\\gromacs\\GROMACS-tools\\analysis\\modules.py:218: SyntaxWarning: invalid escape sequence '\\A'\n",
      "  ax.set_ylabel('Rg  ($\\AA$)')\n",
      "s:\\Work\\gromacs\\GROMACS-tools\\analysis\\modules.py:370: SyntaxWarning: invalid escape sequence '\\A'\n",
      "  ax0.set_ylabel('Rg  ($\\AA$)')\n",
      "s:\\Work\\gromacs\\GROMACS-tools\\analysis\\modules.py:485: SyntaxWarning: invalid escape sequence '\\A'\n",
      "  ax.set_ylabel(f'# Charge within {salt_bridge_cutoff} ($\\AA$)')\n",
      "s:\\Work\\gromacs\\GROMACS-tools\\analysis\\modules.py:651: SyntaxWarning: invalid escape sequence '\\A'\n",
      "  ax.set_ylabel(\"RMSD  ($\\AA$)\")\n"
     ]
    }
   ],
   "source": [
    "import pydssp\n",
    "import torch\n",
    "import MDAnalysis as mda\n",
    "import tempfile\n",
    "import io\n",
    "from modules import dsspline_data\n",
    "%reload_ext autoreload\n",
    "%autoreload 2"
   ]
  },
  {
   "cell_type": "code",
   "execution_count": 2,
   "metadata": {},
   "outputs": [],
   "source": [
    "sim_path = \"S:\\\\Work\\\\gromacs\\\\Cs2RBM-2\\\\\"\n",
    "coordinate_file_name = 'md250ns_po_start.pdb'\n",
    "trajectory_file_name = 'md250ns_center_po.xtc' \n",
    "atomistic_system = mda.Universe(sim_path + coordinate_file_name, sim_path + trajectory_file_name)\n"
   ]
  },
  {
   "cell_type": "code",
   "execution_count": null,
   "metadata": {},
   "outputs": [],
   "source": []
  },
  {
   "cell_type": "code",
   "execution_count": 11,
   "metadata": {},
   "outputs": [
    {
     "name": "stdout",
     "output_type": "stream",
     "text": [
      "[]\n"
     ]
    },
    {
     "name": "stderr",
     "output_type": "stream",
     "text": [
      "c:\\Users\\Clement\\AppData\\Local\\Programs\\Python\\Python312\\Lib\\site-packages\\MDAnalysis\\coordinates\\PDB.py:1153: UserWarning: Found no information for attr: 'formalcharges' Using default value of '0'\n",
      "  warnings.warn(\"Found no information for attr: '{}'\"\n",
      "c:\\Users\\Clement\\AppData\\Local\\Programs\\Python\\Python312\\Lib\\site-packages\\MDAnalysis\\coordinates\\PDB.py:1200: UserWarning: Found missing chainIDs. Corresponding atoms will use value of 'X'\n",
      "  warnings.warn(\"Found missing chainIDs.\"\n"
     ]
    },
    {
     "ename": "IndexError",
     "evalue": "list index out of range",
     "output_type": "error",
     "traceback": [
      "\u001b[1;31m---------------------------------------------------------------------------\u001b[0m",
      "\u001b[1;31mIndexError\u001b[0m                                Traceback (most recent call last)",
      "Cell \u001b[1;32mIn[11], line 29\u001b[0m\n\u001b[0;32m     25\u001b[0m     \u001b[38;5;28;01mreturn\u001b[39;00m dsspline_data(data)\n\u001b[0;32m     28\u001b[0m protein \u001b[38;5;241m=\u001b[39m atomistic_system\u001b[38;5;241m.\u001b[39mselect_atoms(\u001b[38;5;124m\"\u001b[39m\u001b[38;5;124mprotein\u001b[39m\u001b[38;5;124m\"\u001b[39m)\n\u001b[1;32m---> 29\u001b[0m \u001b[38;5;28mprint\u001b[39m(\u001b[43mts_dssp\u001b[49m\u001b[43m(\u001b[49m\u001b[43mprotein\u001b[49m\u001b[43m,\u001b[49m\u001b[43m \u001b[49m\u001b[38;5;241;43m10\u001b[39;49m\u001b[43m)\u001b[49m)\n",
      "Cell \u001b[1;32mIn[11], line 25\u001b[0m, in \u001b[0;36mts_dssp\u001b[1;34m(protein, ts)\u001b[0m\n\u001b[0;32m     23\u001b[0m data \u001b[38;5;241m=\u001b[39m fake_file\u001b[38;5;241m.\u001b[39mread()\n\u001b[0;32m     24\u001b[0m data \u001b[38;5;241m=\u001b[39m data\u001b[38;5;241m.\u001b[39msplit(\u001b[38;5;124m\"\u001b[39m\u001b[38;5;130;01m\\\\\u001b[39;00m\u001b[38;5;124mn\u001b[39m\u001b[38;5;124m\"\u001b[39m)\n\u001b[1;32m---> 25\u001b[0m \u001b[38;5;28;01mreturn\u001b[39;00m \u001b[43mdsspline_data\u001b[49m\u001b[43m(\u001b[49m\u001b[43mdata\u001b[49m\u001b[43m)\u001b[49m\n",
      "File \u001b[1;32ms:\\Work\\gromacs\\GROMACS-tools\\analysis\\modules.py:72\u001b[0m, in \u001b[0;36mdsspline_data\u001b[1;34m(data)\u001b[0m\n\u001b[0;32m     69\u001b[0m         \u001b[38;5;28;01mpass\u001b[39;00m\n\u001b[0;32m     71\u001b[0m \u001b[38;5;28mprint\u001b[39m(backbone)\n\u001b[1;32m---> 72\u001b[0m last \u001b[38;5;241m=\u001b[39m \u001b[43mbackbone\u001b[49m\u001b[43m[\u001b[49m\u001b[38;5;241;43m-\u001b[39;49m\u001b[38;5;241;43m1\u001b[39;49m\u001b[43m]\u001b[49m[\u001b[38;5;241m13\u001b[39m:\u001b[38;5;241m15\u001b[39m]\n\u001b[0;32m     73\u001b[0m \u001b[38;5;28;01mif\u001b[39;00m last \u001b[38;5;241m==\u001b[39m \u001b[38;5;124m\"\u001b[39m\u001b[38;5;124mO \u001b[39m\u001b[38;5;124m\"\u001b[39m:\n\u001b[0;32m     74\u001b[0m     \u001b[38;5;28;01mpass\u001b[39;00m\n",
      "\u001b[1;31mIndexError\u001b[0m: list index out of range"
     ]
    }
   ],
   "source": [
    "\n",
    "\n",
    "fake_file = io.StringIO()\n",
    "\n",
    "from unittest.mock import mock_open, patch\n",
    "\n",
    "\n",
    "\n",
    "\n",
    "def ts_dssp(protein, ts):\n",
    "\n",
    "    with patch(\"builtins.open\", new_callable=mock_open, create=True) as mock_open_func:\n",
    "        protein.write(f\"{sim_path}tmp.pdb\", file_format=\"pdb\")\n",
    "        # Get the file handle from the mock\n",
    "        handle = mock_open_func.return_value\n",
    "        # Extract the written content\n",
    "        written_content = \"\".join(call[1][0] for call in handle.write.mock_calls)\n",
    "        # Write the content to the fake file\n",
    "        fake_file.write(written_content)\n",
    "\n",
    "    # Reset the file pointer to the beginning\n",
    "    fake_file.seek(0)\n",
    "\n",
    "    # Read data from the fake file\n",
    "    data = fake_file.read()\n",
    "    data = data.split(\"\\\\n\")\n",
    "    \n",
    "    \n",
    "\n",
    "protein = atomistic_system.select_atoms(\"protein\")\n",
    "print(ts_dssp(protein, 10))"
   ]
  },
  {
   "cell_type": "code",
   "execution_count": 153,
   "metadata": {},
   "outputs": [
    {
     "name": "stdout",
     "output_type": "stream",
     "text": [
      "S:\\Work\\gromacs\\Cs2RBM-2\\tmp.pdb\n"
     ]
    }
   ],
   "source": [
    "print(f\"{sim_path}tmp.pdb\")"
   ]
  },
  {
   "cell_type": "code",
   "execution_count": 86,
   "metadata": {},
   "outputs": [
    {
     "name": "stdout",
     "output_type": "stream",
     "text": [
      "---------------------------HHHHHHHHHHHHH-----------------------------------------------------HHHHHHHHHHHHH--------------------------------\n"
     ]
    }
   ],
   "source": [
    "\n",
    "\n"
   ]
  }
 ],
 "metadata": {
  "kernelspec": {
   "display_name": "Python 3",
   "language": "python",
   "name": "python3"
  },
  "language_info": {
   "codemirror_mode": {
    "name": "ipython",
    "version": 3
   },
   "file_extension": ".py",
   "mimetype": "text/x-python",
   "name": "python",
   "nbconvert_exporter": "python",
   "pygments_lexer": "ipython3",
   "version": "3.12.0"
  }
 },
 "nbformat": 4,
 "nbformat_minor": 2
}
