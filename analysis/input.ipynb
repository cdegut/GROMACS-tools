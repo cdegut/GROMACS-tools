{
 "cells": [
  {
   "cell_type": "code",
   "execution_count": 3,
   "metadata": {},
   "outputs": [
    {
     "name": "stdout",
     "output_type": "stream",
     "text": [
      "Aligned file found, reading this instead\n"
     ]
    }
   ],
   "source": [
    "import MDAnalysis as mda\n",
    "from MDAnalysis.auxiliary import EDR\n",
    "import warnings\n",
    "import os\n",
    "\n",
    "### Needed input\n",
    "sim_path = \"S:\\\\Work\\\\gromacs\\\\Cr2RBM-2\\\\\"\n",
    "ligand_name = None #set to None if no ligand\n",
    "coordinate_file_name = 'md250ns_po_start.pdb'             ##pdb file for dssp to work\n",
    "trajectory_file_name = 'md250ns_center_po.xtc'      ##xtc file\n",
    "auxiliary_file_name = 'md250ns.edr'              ##edr file\n",
    "reference_structure_path = 'md1ns.gro'\n",
    "\n",
    "sim_name = 'default' ##output pdb file will use thise name, if set to \"default\" will use the auxilliary file name\n",
    "\n",
    "#Options\n",
    "#RMSD_groups = [\"284 to 400\" , \"400 to 426\" ]\n",
    "#RMSD_groups_name = [\"Core\" , \"C-term\" ]\n",
    "RMSD_groups = [\"1 to 92\"]\n",
    "RMSD_groups_name = [\"all\"]\n",
    "H_bonds = False\n",
    "start_frame = 100\n",
    "stop_frame = None\n",
    "\n",
    "\n",
    "\n",
    "if sim_name == 'default':\n",
    "    sim_name = auxiliary_file_name.split(\".\")[0]\n",
    "\n",
    "RMSD_groups_name.insert(0, \"Overall\")\n",
    "\n",
    "## Read the diferents files\n",
    "with warnings.catch_warnings():\n",
    "    warnings.filterwarnings(\"ignore\")\n",
    "    reference_structure = mda.Universe(sim_path + reference_structure_path,)\n",
    "    if os.path.isfile(sim_path + trajectory_file_name.split(\".\")[0] + \"_aligned.xtc\"): ## read the aligned file if it exist\n",
    "        atomistic_system = mda.Universe(sim_path + coordinate_file_name, sim_path + trajectory_file_name.split(\".\")[0] + \"_aligned.xtc\")\n",
    "        print(\"Aligned file found, reading this instead\")\n",
    "        is_aligned = True\n",
    "    else:\n",
    "        atomistic_system = mda.Universe(sim_path + coordinate_file_name, sim_path + trajectory_file_name)\n",
    "        is_aligned = False\n",
    "    energy_like_terms = EDR.EDRReader(sim_path + auxiliary_file_name)"
   ]
  }
 ],
 "metadata": {
  "kernelspec": {
   "display_name": "Python 3",
   "language": "python",
   "name": "python3"
  },
  "language_info": {
   "codemirror_mode": {
    "name": "ipython",
    "version": 3
   },
   "file_extension": ".py",
   "mimetype": "text/x-python",
   "name": "python",
   "nbconvert_exporter": "python",
   "pygments_lexer": "ipython3",
   "version": "3.12.0"
  }
 },
 "nbformat": 4,
 "nbformat_minor": 2
}
